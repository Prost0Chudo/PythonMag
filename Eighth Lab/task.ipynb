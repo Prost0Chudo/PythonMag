{
 "cells": [
  {
   "cell_type": "markdown",
   "metadata": {},
   "source": [
    "<h2>1. Выберите публичный API. Например, JSONPlaceholder.<br>\n",
    "2. Напишите скрипт, который:</h2>\n",
    "<h4>отправляет GET-запрос к /posts,<br>\n",
    "извлекает и выводит заголовки и тела первых 5 постов.</h4>"
   ]
  },
  {
   "cell_type": "code",
   "execution_count": null,
   "metadata": {},
   "outputs": [
    {
     "name": "stdout",
     "output_type": "stream",
     "text": [
      "sunt aut facere repellat provident occaecati excepturi optio reprehenderit\n",
      "qui est esse\n",
      "ea molestias quasi exercitationem repellat qui ipsa sit aut\n",
      "eum et est occaecati\n",
      "nesciunt quas odio\n",
      "\n"
     ]
    }
   ],
   "source": [
    "import requests\n",
    "#Для красивого вывода\n",
    "class ListTitle(list):\n",
    "    def __str__(self):\n",
    "        string = \"\"\n",
    "        for i in self:\n",
    "            string += i + \"\\n\"\n",
    "        return string\n",
    "#Инициализация листа\n",
    "list_title = ListTitle()\n",
    "#https://jsonplaceholder.typicode.com/todos/1\n",
    "response = requests.get(f'https://jsonplaceholder.typicode.com/todos/1/posts')\n",
    "if response.status_code == 200:\n",
    "    data = response.json()  # Получаем данные в формате JSON\n",
    "    for i in range(5):\n",
    "        #print(data[i]['title'])\n",
    "        list_title.append(data[i]['title'])\n",
    "    print(list_title)\n",
    "else:\n",
    "    print(f'Ошибка: {response.status_code}')"
   ]
  },
  {
   "cell_type": "markdown",
   "metadata": {},
   "source": [
    "<h2> 1. Используйте API OpenWeather для получения данных о погоде.<br>\n",
    "2. Напишите программу, которая:</h2>\n",
    "<h4>  принимает название города от пользователя,\n",
    "<br>  отправляет GET-запрос к API и выводит текущую температуру и\n",
    "описание погоды.</h4>"
   ]
  },
  {
   "cell_type": "code",
   "execution_count": 54,
   "metadata": {},
   "outputs": [
    {
     "name": "stdout",
     "output_type": "stream",
     "text": [
      "Погода в Bryansk: чистое небо с температурой 1.99 °C\n"
     ]
    }
   ],
   "source": [
    "#Перевод из кельвин в цельсия\n",
    "import requests\n",
    "def kelvin_to_celsius(kel):\n",
    "    cel = kel - 273.15\n",
    "    return cel\n",
    "\n",
    "#Хотелось красоту в выводе\n",
    "from googletrans import Translator\n",
    "translator = Translator()\n",
    "city_name = input()\n",
    "#Api-key также можно было записать в переменную\n",
    "response = requests.get(f'https://api.openweathermap.org/data/2.5/weather?q={city_name}&appid=ae4d487a9535269c3015d8660a7afa37')\n",
    "#print(response)\n",
    "if response.status_code == 200:\n",
    "    data = response.json()  # Получаем данные в формате JSON\n",
    "    #print(data)\n",
    "    #print(data['weather'])\n",
    "    #Получение списка погоды\n",
    "    weather_list = data['weather']\n",
    "    description = weather_list[0]['description']\n",
    "    description = translator.translate(description, src='en', dest='ru').text\n",
    "    #print(description)\n",
    "    #description = weather_list['description']\n",
    "    #print(weather_list)\n",
    "    #print(data['main'])\n",
    "    #Получение списка температуры\n",
    "    temp_list = data['main']\n",
    "    temp = temp_list['temp']\n",
    "    #print(temp)\n",
    "    cel_temp = kelvin_to_celsius(temp)\n",
    "    #print(round(cel_temp, 2))\n",
    "    cel_temp = round(cel_temp, 2)\n",
    "    print(f\"Погода в {city_name}: {description} с температурой {cel_temp} °C\")\n",
    "    #print(type(data['weather']))\n",
    "else:\n",
    "    print(f'Ошибка: {response.status_code}')"
   ]
  }
 ],
 "metadata": {
  "kernelspec": {
   "display_name": "Python 3",
   "language": "python",
   "name": "python3"
  },
  "language_info": {
   "codemirror_mode": {
    "name": "ipython",
    "version": 3
   },
   "file_extension": ".py",
   "mimetype": "text/x-python",
   "name": "python",
   "nbconvert_exporter": "python",
   "pygments_lexer": "ipython3",
   "version": "3.9.4"
  }
 },
 "nbformat": 4,
 "nbformat_minor": 2
}
