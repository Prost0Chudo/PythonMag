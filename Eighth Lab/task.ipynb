{
 "cells": [
  {
   "cell_type": "markdown",
   "metadata": {},
   "source": [
    "<h2>1. Выберите публичный API. Например, JSONPlaceholder.<br>\n",
    "2. Напишите скрипт, который:</h2>\n",
    "<h4>отправляет GET-запрос к /posts,<br>\n",
    "извлекает и выводит заголовки и тела первых 5 постов.</h4>"
   ]
  },
  {
   "cell_type": "code",
   "execution_count": null,
   "metadata": {},
   "outputs": [
    {
     "name": "stdout",
     "output_type": "stream",
     "text": [
      "<class 'list'>\n"
     ]
    },
    {
     "ename": "TypeError",
     "evalue": "descriptor 'append' for 'list' objects doesn't apply to a 'str' object",
     "output_type": "error",
     "traceback": [
      "\u001b[1;31m---------------------------------------------------------------------------\u001b[0m",
      "\u001b[1;31mTypeError\u001b[0m                                 Traceback (most recent call last)",
      "Cell \u001b[1;32mIn[62], line 17\u001b[0m\n\u001b[0;32m     14\u001b[0m     data \u001b[38;5;241m=\u001b[39m response\u001b[38;5;241m.\u001b[39mjson()  \u001b[38;5;66;03m# Получаем данные в формате JSON\u001b[39;00m\n\u001b[0;32m     15\u001b[0m     \u001b[38;5;28;01mfor\u001b[39;00m i \u001b[38;5;129;01min\u001b[39;00m \u001b[38;5;28mrange\u001b[39m(\u001b[38;5;241m5\u001b[39m):\n\u001b[0;32m     16\u001b[0m         \u001b[38;5;66;03m#print(data[i]['title'])\u001b[39;00m\n\u001b[1;32m---> 17\u001b[0m         \u001b[43mlist_title\u001b[49m\u001b[38;5;241;43m.\u001b[39;49m\u001b[43mappend\u001b[49m\u001b[43m(\u001b[49m\u001b[43mdata\u001b[49m\u001b[43m[\u001b[49m\u001b[43mi\u001b[49m\u001b[43m]\u001b[49m\u001b[43m[\u001b[49m\u001b[38;5;124;43m'\u001b[39;49m\u001b[38;5;124;43mtitle\u001b[39;49m\u001b[38;5;124;43m'\u001b[39;49m\u001b[43m]\u001b[49m\u001b[43m)\u001b[49m\n\u001b[0;32m     18\u001b[0m     \u001b[38;5;28mprint\u001b[39m(list_title)\n\u001b[0;32m     19\u001b[0m \u001b[38;5;28;01melse\u001b[39;00m:\n",
      "\u001b[1;31mTypeError\u001b[0m: descriptor 'append' for 'list' objects doesn't apply to a 'str' object"
     ]
    }
   ],
   "source": [
    "import requests\n",
    "#Для красивого вывода\n",
    "class ListTitle(list):\n",
    "    def __str__(self):\n",
    "        for i in self:\n",
    "            string += i + \"/n\"\n",
    "        return string\n",
    "list_title = ListTitle\n",
    "response = requests.get(f'https://jsonplaceholder.typicode.com/todos/1/posts')\n",
    "#https://jsonplaceholder.typicode.com/todos/1\n",
    "if response.status_code == 200:\n",
    "    data = response.json()  # Получаем данные в формате JSON\n",
    "    for i in range(5):\n",
    "        #print(data[i]['title'])\n",
    "        list_title.append(data[i]['title'])\n",
    "    print(list_title)\n",
    "else:\n",
    "    print(f'Ошибка: {response.status_code}')"
   ]
  },
  {
   "cell_type": "markdown",
   "metadata": {},
   "source": [
    "<h2> 1. Используйте API OpenWeather для получения данных о погоде.<br>\n",
    "2. Напишите программу, которая:</h2>\n",
    "<h4>  принимает название города от пользователя,\n",
    "<br>  отправляет GET-запрос к API и выводит текущую температуру и\n",
    "описание погоды.</h4>"
   ]
  },
  {
   "cell_type": "code",
   "execution_count": 54,
   "metadata": {},
   "outputs": [
    {
     "name": "stdout",
     "output_type": "stream",
     "text": [
      "Погода в Bryansk: чистое небо с температурой 1.99 °C\n"
     ]
    }
   ],
   "source": [
    "#Перевод из кельвин в цельсия\n",
    "import requests\n",
    "def kelvin_to_celsius(kel):\n",
    "    cel = kel - 273.15\n",
    "    return cel\n",
    "\n",
    "#Хотелось красоту в выводе\n",
    "from googletrans import Translator\n",
    "translator = Translator()\n",
    "city_name = input()\n",
    "#Api-key также можно было записать в переменную\n",
    "response = requests.get(f'https://api.openweathermap.org/data/2.5/weather?q={city_name}&appid=ae4d487a9535269c3015d8660a7afa37')\n",
    "#print(response)\n",
    "if response.status_code == 200:\n",
    "    data = response.json()  # Получаем данные в формате JSON\n",
    "    #print(data)\n",
    "    #print(data['weather'])\n",
    "    #Получение списка погоды\n",
    "    weather_list = data['weather']\n",
    "    description = weather_list[0]['description']\n",
    "    description = translator.translate(description, src='en', dest='ru').text\n",
    "    #print(description)\n",
    "    #description = weather_list['description']\n",
    "    #print(weather_list)\n",
    "    #print(data['main'])\n",
    "    #Получение списка температуры\n",
    "    temp_list = data['main']\n",
    "    temp = temp_list['temp']\n",
    "    #print(temp)\n",
    "    cel_temp = kelvin_to_celsius(temp)\n",
    "    #print(round(cel_temp, 2))\n",
    "    cel_temp = round(cel_temp, 2)\n",
    "    print(f\"Погода в {city_name}: {description} с температурой {cel_temp} °C\")\n",
    "    #print(type(data['weather']))\n",
    "else:\n",
    "    print(f'Ошибка: {response.status_code}')"
   ]
  }
 ],
 "metadata": {
  "kernelspec": {
   "display_name": "Python 3",
   "language": "python",
   "name": "python3"
  },
  "language_info": {
   "codemirror_mode": {
    "name": "ipython",
    "version": 3
   },
   "file_extension": ".py",
   "mimetype": "text/x-python",
   "name": "python",
   "nbconvert_exporter": "python",
   "pygments_lexer": "ipython3",
   "version": "3.9.4"
  }
 },
 "nbformat": 4,
 "nbformat_minor": 2
}
