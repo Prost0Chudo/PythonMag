{
 "cells": [
  {
   "cell_type": "markdown",
   "metadata": {},
   "source": [
    "<h3>Печатные газеты использовали свой формат дат для каждого выпуска. Для каждой\n",
    "газеты из списка напишите формат указанной даты для перевода в объект datetime:<br>\n",
    "The Moscow Times - Wednesday, October 2, 2002<br>\n",
    "The Guardian - Friday, 11.10.13<br>\n",
    "Daily News - Thursday, 18 August 1977<br>\n",
    "<i>Пример работы программы<br>\n",
    "Программа должна выводить на экран объекты типа datetime, соответствующие датам\n",
    "в условии задачи</i></h3>"
   ]
  },
  {
   "cell_type": "markdown",
   "metadata": {},
   "source": [
    "<h4>The Moscow Times - Wednesday, October 2, 2002</h4>"
   ]
  },
  {
   "cell_type": "code",
   "execution_count": 88,
   "metadata": {},
   "outputs": [
    {
     "name": "stdout",
     "output_type": "stream",
     "text": [
      "The Moscow Times - 2002-10-02\n"
     ]
    }
   ],
   "source": [
    "import datetime as dt\n",
    "#today = dt.date.today()\n",
    "#print(today)\n",
    "date1 = \"Wednesday, October 2, 2002\"\n",
    "mounth = {1 : \"January\", 2 : \"Febrary\",\n",
    "          3 : \"March\", 4 : \"April\",\n",
    "          5 : \"May\", 6 : \"June\",\n",
    "          7 : \"July\", 8 : \"August\",\n",
    "          9 : \"September\", 10 : \"October\",\n",
    "          11 : \"November\", 12 : \"December\"}\n",
    "code = 0\n",
    "for key in mounth:\n",
    "    if date1.find(mounth[key]) != -1:\n",
    "        code = key\n",
    "if code == 0:\n",
    "    print(\"Data is incorrect\")\n",
    "else:\n",
    "    #print(mounth[code])\n",
    "    start_search = date1.index(mounth[code])\n",
    "    end_search = date1.index(\",\", start_search)\n",
    "    #print(end_search)\n",
    "    #print(date1[start_search:end_search].replace(mounth[code] + \" \", \"\"))\n",
    "    day = int(date1[start_search:end_search].replace(mounth[code] + \" \", \"\"))\n",
    "    if day < 1 & day > 31:\n",
    "        print(\"Data is incorrect\")\n",
    "    else:\n",
    "        year = int(date1[end_search:].replace(\", \", \"\"))\n",
    "        #print(year)\n",
    "        result = dt.date(day=day, month=code, year=year)\n",
    "        print(f\"The Moscow Times - {result}\")\n",
    "        #print(day)\n",
    "#print(code)"
   ]
  },
  {
   "cell_type": "markdown",
   "metadata": {},
   "source": [
    "<h4>The Guardian - Friday, 11.10.13</h4>"
   ]
  },
  {
   "cell_type": "code",
   "execution_count": 89,
   "metadata": {},
   "outputs": [
    {
     "name": "stdout",
     "output_type": "stream",
     "text": [
      "The Guardian - 2013-10-11\n"
     ]
    }
   ],
   "source": [
    "date2 = \"Friday, 11.10.13\"\n",
    "start_search_day = date2.index(\",\")\n",
    "#print(start_search_day)\n",
    "end_search_day = date2.index(\".\")\n",
    "day = int(date2[start_search_day:end_search_day].replace(\", \", \"\"))\n",
    "#print(day)\n",
    "start_search_mounth = end_search_day\n",
    "end_search_mounth = date2.index(\".\", start_search_mounth + 1)\n",
    "#print(end_search_mounth)\n",
    "mounth = int(date2[start_search_mounth:end_search_mounth].replace(\".\", \"\"))\n",
    "#print(mounth)\n",
    "year = date2[end_search_mounth:]\n",
    "year = int(year.replace(\".\", \"\")) + 2000 # Полагаю год > 2000\n",
    "#print(year)\n",
    "result = dt.date(day=day, month=mounth, year=year)\n",
    "print(f\"The Guardian - {result}\")"
   ]
  },
  {
   "cell_type": "markdown",
   "metadata": {},
   "source": [
    "<h4>Daily News - Thursday, 18 August 1977</h4>"
   ]
  },
  {
   "cell_type": "code",
   "execution_count": 90,
   "metadata": {},
   "outputs": [
    {
     "name": "stdout",
     "output_type": "stream",
     "text": [
      "18\n",
      "1977\n",
      "Daily News - 1977-08-18\n"
     ]
    }
   ],
   "source": [
    "date3 = \"Thursday, 18 August 1977\"\n",
    "start_search = date3.index(\",\")\n",
    "mounth = {1 : \"January\", 2 : \"Febrary\",\n",
    "          3 : \"March\", 4 : \"April\",\n",
    "          5 : \"May\", 6 : \"June\",\n",
    "          7 : \"July\", 8 : \"August\",\n",
    "          9 : \"September\", 10 : \"October\",\n",
    "          11 : \"November\", 12 : \"December\"}\n",
    "code = 0\n",
    "for key in mounth:\n",
    "    if date3.find(mounth[key]) != -1:\n",
    "        code = key\n",
    "if code == 0:\n",
    "    print(\"Data is incorrect\")\n",
    "else:\n",
    "    #print(mounth[code])\n",
    "    end_search = date3.index(mounth[code])\n",
    "    day = int(date3[start_search:end_search].replace(\", \", \"\"))\n",
    "    print(day)\n",
    "    year = int(date3[end_search:].replace(mounth[code] + \" \", \"\"))\n",
    "    print(year)\n",
    "    result = dt.date(day=day, month=code, year=year)\n",
    "    print(f\"Daily News - {result}\")"
   ]
  },
  {
   "cell_type": "markdown",
   "metadata": {},
   "source": [
    "<h3>Напишите функцию date_range, которая возвращает список дат за период от start_date\n",
    "до end_date. <br>Даты должны вводиться в формате YYYY-MM-DD. В случае неверного\n",
    "формата или при start_date > end_date должен возвращаться пустой список.<br>\n",
    "Примеры работы программы:<br>\n",
    "<i>date_range(‘2022-01-01’, ‘2022-01-03’)<br>\n",
    "[‘2022-01-01’, ‘2022-01-02’, ‘2022-01-03’]</i></h3>"
   ]
  },
  {
   "cell_type": "code",
   "execution_count": null,
   "metadata": {},
   "outputs": [
    {
     "name": "stdout",
     "output_type": "stream",
     "text": [
      "268\n",
      "['2025-01-10', '2025-01-11', '2025-01-12', '2025-01-13', '2025-01-14', '2025-01-15', '2025-01-16', '2025-01-17', '2025-01-18', '2025-01-19', '2025-01-20', '2025-01-21', '2025-01-22', '2025-01-23', '2025-01-24', '2025-01-25', '2025-01-26', '2025-01-27', '2025-01-28', '2025-01-29', '2025-01-30', '2025-01-31', '2025-02-01', '2025-02-02', '2025-02-03', '2025-02-04', '2025-02-05', '2025-02-06', '2025-02-07', '2025-02-08', '2025-02-09', '2025-02-10', '2025-02-11', '2025-02-12', '2025-02-13', '2025-02-14', '2025-02-15', '2025-02-16', '2025-02-17', '2025-02-18', '2025-02-19', '2025-02-20', '2025-02-21', '2025-02-22', '2025-02-23', '2025-02-24', '2025-02-25', '2025-02-26', '2025-02-27', '2025-02-28', '2025-03-01', '2025-03-02', '2025-03-03', '2025-03-04', '2025-03-05', '2025-03-06', '2025-03-07', '2025-03-08', '2025-03-09', '2025-03-10', '2025-03-11', '2025-03-12', '2025-03-13', '2025-03-14', '2025-03-15', '2025-03-16', '2025-03-17', '2025-03-18', '2025-03-19', '2025-03-20', '2025-03-21', '2025-03-22', '2025-03-23', '2025-03-24', '2025-03-25', '2025-03-26', '2025-03-27', '2025-03-28', '2025-03-29', '2025-03-30', '2025-03-31', '2025-04-01', '2025-04-02', '2025-04-03', '2025-04-04', '2025-04-05', '2025-04-06', '2025-04-07', '2025-04-08', '2025-04-09', '2025-04-10', '2025-04-11', '2025-04-12', '2025-04-13', '2025-04-14', '2025-04-15', '2025-04-16', '2025-04-17', '2025-04-18', '2025-04-19', '2025-04-20', '2025-04-21', '2025-04-22', '2025-04-23', '2025-04-24', '2025-04-25', '2025-04-26', '2025-04-27', '2025-04-28', '2025-04-29', '2025-04-30', '2025-05-01', '2025-05-02', '2025-05-03', '2025-05-04', '2025-05-05', '2025-05-06', '2025-05-07', '2025-05-08', '2025-05-09', '2025-05-10', '2025-05-11', '2025-05-12', '2025-05-13', '2025-05-14', '2025-05-15', '2025-05-16', '2025-05-17', '2025-05-18', '2025-05-19', '2025-05-20', '2025-05-21', '2025-05-22', '2025-05-23', '2025-05-24', '2025-05-25', '2025-05-26', '2025-05-27', '2025-05-28', '2025-05-29', '2025-05-30', '2025-05-31', '2025-06-01', '2025-06-02', '2025-06-03', '2025-06-04', '2025-06-05', '2025-06-06', '2025-06-07', '2025-06-08', '2025-06-09', '2025-06-10', '2025-06-11', '2025-06-12', '2025-06-13', '2025-06-14', '2025-06-15', '2025-06-16', '2025-06-17', '2025-06-18', '2025-06-19', '2025-06-20', '2025-06-21', '2025-06-22', '2025-06-23', '2025-06-24', '2025-06-25', '2025-06-26', '2025-06-27', '2025-06-28', '2025-06-29', '2025-06-30', '2025-07-01', '2025-07-02', '2025-07-03', '2025-07-04', '2025-07-05', '2025-07-06', '2025-07-07', '2025-07-08', '2025-07-09', '2025-07-10', '2025-07-11', '2025-07-12', '2025-07-13', '2025-07-14', '2025-07-15', '2025-07-16', '2025-07-17', '2025-07-18', '2025-07-19', '2025-07-20', '2025-07-21', '2025-07-22', '2025-07-23', '2025-07-24', '2025-07-25', '2025-07-26', '2025-07-27', '2025-07-28', '2025-07-29', '2025-07-30', '2025-07-31', '2025-08-01', '2025-08-02', '2025-08-03', '2025-08-04', '2025-08-05', '2025-08-06', '2025-08-07', '2025-08-08', '2025-08-09', '2025-08-10', '2025-08-11', '2025-08-12', '2025-08-13', '2025-08-14', '2025-08-15', '2025-08-16', '2025-08-17', '2025-08-18', '2025-08-19', '2025-08-20', '2025-08-21', '2025-08-22', '2025-08-23', '2025-08-24', '2025-08-25', '2025-08-26', '2025-08-27', '2025-08-28', '2025-08-29', '2025-08-30', '2025-08-31', '2025-09-01', '2025-09-02', '2025-09-03', '2025-09-04', '2025-09-05', '2025-09-06', '2025-09-07', '2025-09-08', '2025-09-09', '2025-09-10', '2025-09-11', '2025-09-12', '2025-09-13', '2025-09-14', '2025-09-15', '2025-09-16', '2025-09-17', '2025-09-18', '2025-09-19', '2025-09-20', '2025-09-21', '2025-09-22', '2025-09-23', '2025-09-24', '2025-09-25', '2025-09-26', '2025-09-27', '2025-09-28', '2025-09-29', '2025-09-30', '2025-10-01', '2025-10-02', '2025-10-03', '2025-10-04', '2025-10-05']\n"
     ]
    }
   ],
   "source": [
    "start_date = input().split(\"-\")\n",
    "end_date = input().split(\"-\")\n",
    "def date_range(start, end):\n",
    "    result = []\n",
    "    try:\n",
    "        start_year, start_mounth, start_day = [int(item) for item in start]\n",
    "        end_year, end_mounth, end_day = [int(item) for item in end]\n",
    "        start_dt = dt.date(start_year, start_mounth, start_day)\n",
    "        end_dt = dt.date(end_year, end_mounth, end_day)\n",
    "        #print(start_dt)\n",
    "        #print(end_dt)\n",
    "        if start_dt >= end_dt:\n",
    "            return result\n",
    "        else:\n",
    "            delta = end_dt - start_dt\n",
    "            #print(delta)\n",
    "            new_date = start_dt\n",
    "            for i in range(delta.days + 1):\n",
    "                new_date = start_dt + dt.timedelta(days=i)\n",
    "                result.append(new_date.strftime(\"%Y-%m-%d\"))\n",
    "                #print(new_date)\n",
    "                #print(result)\n",
    "    except Exception as e:\n",
    "        print(f\"Неправильный формат времени: {e}\")\n",
    "    return result\n",
    "print(date_range(start_date,end_date))"
   ]
  }
 ],
 "metadata": {
  "kernelspec": {
   "display_name": "Python 3",
   "language": "python",
   "name": "python3"
  },
  "language_info": {
   "codemirror_mode": {
    "name": "ipython",
    "version": 3
   },
   "file_extension": ".py",
   "mimetype": "text/x-python",
   "name": "python",
   "nbconvert_exporter": "python",
   "pygments_lexer": "ipython3",
   "version": "3.9.4"
  }
 },
 "nbformat": 4,
 "nbformat_minor": 2
}
