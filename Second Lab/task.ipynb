{
 "cells": [
  {
   "cell_type": "markdown",
   "metadata": {},
   "source": [
    "<h1>Тема 2. Управляющие конструкции и коллекции</h1>"
   ]
  },
  {
   "cell_type": "markdown",
   "metadata": {},
   "source": [
    "<h2>Дана переменная, в которой хранится словарь, содержащий гео-метки для каждого\n",
    "пользователя (пример структуры данных приведен ниже). Вам необходимо написать\n",
    "программу, которая выведет на экран множество уникальных гео-меток всех пользователей.</h2>\n",
    "<h3>Пример работы программы:<br>\n",
    "ids = {<br>\n",
    "    'user1': [213, 213, 213, 15, 213],<br>\n",
    "    'user2': [54, 54, 119, 119, 119],<br>\n",
    "    'user3': [213, 98, 98, 35]}<br>\n",
    "Результат: {98, 35, 15, 213, 54, 119}\n",
    "</h3>"
   ]
  },
  {
   "cell_type": "markdown",
   "metadata": {},
   "source": [
    "<h4>Пример решения 1</h4>"
   ]
  },
  {
   "cell_type": "code",
   "execution_count": null,
   "metadata": {},
   "outputs": [
    {
     "name": "stdout",
     "output_type": "stream",
     "text": [
      "{'user1': ['213', '213', '213', '15', '213'], 'user2': ['54', '54', '119', '119', '119'], 'user3': ['213', '98', '98', '35']}\n",
      "Пользователь: user1, его гео-метки: ['213', '213', '213', '15', '213']\n",
      "Пользователь: user2, его гео-метки: ['54', '54', '119', '119', '119']\n",
      "Пользователь: user3, его гео-метки: ['213', '98', '98', '35']\n",
      "['213', '15', '54', '119', '98', '35']\n"
     ]
    }
   ],
   "source": [
    "data = dict()\n",
    "count = 0\n",
    "result = list()\n",
    "while True:\n",
    "    user = input('Введите пользователя: (end для остановки ввода)')\n",
    "    if user == \"end\":\n",
    "        break\n",
    "    geo_value = input('Введите гео-метки: ').split(\",\")\n",
    "\n",
    "    data[user] = geo_value\n",
    "print(data)\n",
    "for user in data:\n",
    "    print(f\"Пользователь: {user}, его гео-метки: {data[user]}\")\n",
    "    for i in data[user]:\n",
    "        if i not in result:\n",
    "            result.append(i)\n",
    "print(result)"
   ]
  },
  {
   "cell_type": "markdown",
   "metadata": {},
   "source": [
    "<h4>Пример решения 2</h4>"
   ]
  },
  {
   "cell_type": "code",
   "execution_count": null,
   "metadata": {},
   "outputs": [
    {
     "name": "stdout",
     "output_type": "stream",
     "text": [
      "Пользователь: user1, его гео-метки: ['1', '2', '3', '4']\n",
      "Пользователь: user2, его гео-метки: ['3', '4', '5', '6']\n",
      "Пользователь: user3, его гео-метки: ['5', '6', '7', '8']\n",
      "Результат: ['1', '2', '3', '4', '5', '6', '7', '8']\n"
     ]
    }
   ],
   "source": [
    "data = dict()\n",
    "count = 0\n",
    "result = list()\n",
    "while True:\n",
    "    user = input('Введите пользователя: (end для остановки ввода)')\n",
    "    if user == \"end\":\n",
    "        break\n",
    "    geo_value = input('Введите гео-метки: ').split(\",\")\n",
    "    for i in geo_value:\n",
    "        if i not in result:\n",
    "            result.append(i)\n",
    "\n",
    "    data[user] = geo_value\n",
    "for user in data:\n",
    "    print(f\"Пользователь: {user}, его гео-метки: {data[user]}\")\n",
    "print(f\"Результат: {result}\")"
   ]
  },
  {
   "cell_type": "markdown",
   "metadata": {},
   "source": [
    "<h2>Дана переменная, в которой хранится список поисковых запросов пользователя (пример\n",
    "структуры данных приведен ниже). Вам необходимо написать программу, которая выведет на\n",
    "экран распределение количества слов в запросах в требуемом виде.\n",
    "</h2>\n",
    "<h3>queries = [<br>\n",
    "'смотреть сериалы онлайн',<br>\n",
    "'новости спорта',<br>\n",
    "'афиша кино',<br>\n",
    "'курс доллара',<br>\n",
    "'сериалы этим летом',<br>\n",
    "'курс по питону',<br>\n",
    "'сериалы про спорт',<br>\n",
    "]<br>\n",
    "Результат:<br>\n",
    "Поисковых запросов, содержащих 2 слов(а): 42.86%<br>\n",
    "Поисковых запросов, содержащих 3 слов(а): 57.14%\n",
    "</h3>"
   ]
  },
  {
   "cell_type": "markdown",
   "metadata": {},
   "source": [
    "<h4>Пример решения 1 (без негативного сценария)</h4>"
   ]
  },
  {
   "cell_type": "code",
   "execution_count": null,
   "metadata": {},
   "outputs": [
    {
     "name": "stdout",
     "output_type": "stream",
     "text": [
      "Поисковых запросов, содержащих 2 слова: 11.11%\n",
      "Поисковых запросов, содержащих 4 слова: 22.22%\n",
      "Поисковых запросов, содержащих 5 слов: 22.22%\n",
      "Поисковых запросов, содержащих 6 слов: 22.22%\n",
      "Поисковых запросов, содержащих 7 слов: 22.22%\n",
      "9\n"
     ]
    }
   ],
   "source": [
    "data = dict()\n",
    "queries = list()\n",
    "count = 0\n",
    "while True:\n",
    "    queries = input('Введите поисковый запрос: (end для остановки ввода)')\n",
    "    if queries == \"end\":\n",
    "        break\n",
    "    count_words = queries.count(\" \") + 1\n",
    "    try:\n",
    "        data[count_words] += 1\n",
    "    except KeyError:\n",
    "        data[count_words] = 1\n",
    "    count += 1\n",
    "data = dict(sorted(data.items()))\n",
    "#print(data)\n",
    "for i in data:\n",
    "    #print(data[i])\n",
    "    percent = round(data[i] / count * 100, 2)\n",
    "    if i < 5:\n",
    "        print(f\"Поисковых запросов, содержащих {i} слова: {percent}%\")\n",
    "    else:\n",
    "        print(f\"Поисковых запросов, содержащих {i} слов: {percent}%\")\n",
    "#print(count)"
   ]
  },
  {
   "cell_type": "markdown",
   "metadata": {},
   "source": [
    "<h4>Пример решения 2</h4>"
   ]
  },
  {
   "cell_type": "code",
   "execution_count": null,
   "metadata": {},
   "outputs": [
    {
     "name": "stdout",
     "output_type": "stream",
     "text": [
      "Поисковых запросов, содержащих 1 слова: 66.67%\n",
      "Поисковых запросов, содержащих 2 слова: 33.33%\n"
     ]
    }
   ],
   "source": [
    "import re # Импорт библиотеки re\n",
    "data = dict()\n",
    "queries = list()\n",
    "count = 0\n",
    "while True:\n",
    "    queries = input('Введите поисковый запрос: (end для остановки ввода)')\n",
    "    if queries == \"end\":\n",
    "        break\n",
    "    count_words = len(re.findall(r'\\w+', queries)) #Регулярное выражение для исключения лишних пробелов: \"Я     строка\"\n",
    "    try:\n",
    "        data[count_words] += 1\n",
    "    except KeyError:\n",
    "        data[count_words] = 1\n",
    "    count += 1\n",
    "data = dict(sorted(data.items()))\n",
    "#print(data)\n",
    "for i in data:\n",
    "    #print(data[i])\n",
    "    percent = round(data[i] / count * 100, 2)\n",
    "    if i < 5:\n",
    "        print(f\"Поисковых запросов, содержащих {i} слова: {percent}%\")\n",
    "    else:\n",
    "        print(f\"Поисковых запросов, содержащих {i} слов: {percent}%\")\n",
    "#print(count)"
   ]
  }
 ],
 "metadata": {
  "kernelspec": {
   "display_name": "Python 3",
   "language": "python",
   "name": "python3"
  },
  "language_info": {
   "codemirror_mode": {
    "name": "ipython",
    "version": 3
   },
   "file_extension": ".py",
   "mimetype": "text/x-python",
   "name": "python",
   "nbconvert_exporter": "python",
   "pygments_lexer": "ipython3",
   "version": "3.9.4"
  }
 },
 "nbformat": 4,
 "nbformat_minor": 2
}
