{
 "cells": [
  {
   "cell_type": "markdown",
   "metadata": {},
   "source": [
    "<h1>Тема 2. Управляющие конструкции и коллекции</h1>"
   ]
  },
  {
   "cell_type": "markdown",
   "metadata": {},
   "source": [
    "<h2>Дана переменная, в которой хранится словарь, содержащий гео-метки для каждого\n",
    "пользователя (пример структуры данных приведен ниже). Вам необходимо написать\n",
    "программу, которая выведет на экран множество уникальных гео-меток всех пользователей.</h2>\n",
    "<h3>Пример работы программы:\n",
    "ids = {\n",
    "    'user1': [213, 213, 213, 15, 213],\n",
    "    'user2': [54, 54, 119, 119, 119],\n",
    "    'user3': [213, 98, 98, 35]}\n",
    "Результат: {98, 35, 15, 213, 54, 119}\n",
    "</h3>"
   ]
  },
  {
   "cell_type": "markdown",
   "metadata": {},
   "source": [
    "<h4>Пример решения 1</h4>"
   ]
  },
  {
   "cell_type": "code",
   "execution_count": null,
   "metadata": {},
   "outputs": [
    {
     "name": "stdout",
     "output_type": "stream",
     "text": [
      "{'user1': ['213', '213', '213', '15', '213'], 'user2': ['54', '54', '119', '119', '119'], 'user3': ['213', '98', '98', '35']}\n",
      "['213', '15', '54', '119', '98', '35']\n"
     ]
    }
   ],
   "source": [
    "data = dict()\n",
    "count = 0\n",
    "result = list()\n",
    "while True:\n",
    "    user = input('Введите пользователя: ')\n",
    "    if user == \"end\":\n",
    "        break\n",
    "    geo_value = input('Введите гео-метки: ').split(\",\")\n",
    "\n",
    "    data[user] = geo_value\n",
    "print(data)\n",
    "for user in data:\n",
    "    print(f\"Пользователь: {user}, его гео-метки: {data[user]}\")\n",
    "    for i in data[user]:\n",
    "        if i not in result:\n",
    "            result.append(i)\n",
    "print(result)"
   ]
  },
  {
   "cell_type": "markdown",
   "metadata": {},
   "source": [
    "<h4>Пример решения 2</h4>"
   ]
  },
  {
   "cell_type": "code",
   "execution_count": 9,
   "metadata": {},
   "outputs": [
    {
     "name": "stdout",
     "output_type": "stream",
     "text": [
      "Пользователь: user1, его гео-метки: ['1', '2', '3', '4']\n",
      "Пользователь: user2, его гео-метки: ['3', '4', '5', '6']\n",
      "Пользователь: user3, его гео-метки: ['5', '6', '7', '8']\n",
      "Результат: ['1', '2', '3', '4', '5', '6', '7', '8']\n"
     ]
    }
   ],
   "source": [
    "data = dict()\n",
    "count = 0\n",
    "result = list()\n",
    "while True:\n",
    "    user = input('Введите пользователя: ')\n",
    "    count += 1\n",
    "    if user == \"end\":\n",
    "        break\n",
    "    geo_value = input('Введите гео-метки: ').split(\",\")\n",
    "    for i in geo_value:\n",
    "        if i not in result:\n",
    "            result.append(i)\n",
    "\n",
    "    data[user] = geo_value\n",
    "for user in data:\n",
    "    print(f\"Пользователь: {user}, его гео-метки: {data[user]}\")\n",
    "print(f\"Результат: {result}\")"
   ]
  }
 ],
 "metadata": {
  "kernelspec": {
   "display_name": "Python 3",
   "language": "python",
   "name": "python3"
  },
  "language_info": {
   "codemirror_mode": {
    "name": "ipython",
    "version": 3
   },
   "file_extension": ".py",
   "mimetype": "text/x-python",
   "name": "python",
   "nbconvert_exporter": "python",
   "pygments_lexer": "ipython3",
   "version": "3.9.4"
  }
 },
 "nbformat": 4,
 "nbformat_minor": 2
}
