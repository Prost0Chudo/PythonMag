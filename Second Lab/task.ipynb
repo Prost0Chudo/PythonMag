{
 "cells": [
  {
   "cell_type": "markdown",
   "metadata": {},
   "source": [
    "<h1>Тема 2. Управляющие конструкции и коллекции</h1>"
   ]
  },
  {
   "cell_type": "markdown",
   "metadata": {},
   "source": [
    "<h2>Дана переменная, в которой хранится словарь, содержащий гео-метки для каждого\n",
    "пользователя (пример структуры данных приведен ниже). Вам необходимо написать\n",
    "программу, которая выведет на экран множество уникальных гео-меток всех пользователей.</h2>\n",
    "<h3>Пример работы программы:\n",
    "ids = {\n",
    "    'user1': [213, 213, 213, 15, 213],\n",
    "    'user2': [54, 54, 119, 119, 119],\n",
    "    'user3': [213, 98, 98, 35]}\n",
    "Результат: {98, 35, 15, 213, 54, 119}\n",
    "</h3>"
   ]
  },
  {
   "cell_type": "markdown",
   "metadata": {},
   "source": [
    "<h4>Пример решения 1</h4>"
   ]
  },
  {
   "cell_type": "code",
   "execution_count": 6,
   "metadata": {},
   "outputs": [
    {
     "name": "stdout",
     "output_type": "stream",
     "text": [
      "{'user1': ['5', '6', '7', '8'], 'user2': ['7', '8', '9', '10'], 'user3': ['1', '2', '3', '4', '5', '6', '7', '8', '9', '10']}\n"
     ]
    },
    {
     "ename": "KeyError",
     "evalue": "0",
     "output_type": "error",
     "traceback": [
      "\u001b[1;31m---------------------------------------------------------------------------\u001b[0m",
      "\u001b[1;31mKeyError\u001b[0m                                  Traceback (most recent call last)",
      "Cell \u001b[1;32mIn[6], line 13\u001b[0m\n\u001b[0;32m     11\u001b[0m \u001b[38;5;28mprint\u001b[39m(data)\n\u001b[0;32m     12\u001b[0m \u001b[38;5;28;01mfor\u001b[39;00m i \u001b[38;5;129;01min\u001b[39;00m \u001b[38;5;28mrange\u001b[39m(count):\n\u001b[1;32m---> 13\u001b[0m     list_geo \u001b[38;5;241m=\u001b[39m \u001b[43mdata\u001b[49m\u001b[43m[\u001b[49m\u001b[43mi\u001b[49m\u001b[43m]\u001b[49m\n",
      "\u001b[1;31mKeyError\u001b[0m: 0"
     ]
    }
   ],
   "source": [
    "data = dict()\n",
    "count = 0\n",
    "while True:\n",
    "    user = input('Введите пользователя: ')\n",
    "    count += 1\n",
    "    if user == \"end\":\n",
    "        break\n",
    "    geo_value = input('Введите гео-метки: ').split(\",\")\n",
    "\n",
    "    data[user] = geo_value\n",
    "print(data)\n",
    "for i in range(count):\n",
    "    list_geo = data[i]\n",
    "    "
   ]
  },
  {
   "cell_type": "markdown",
   "metadata": {},
   "source": [
    "<h4>Пример решения 2</h4>"
   ]
  },
  {
   "cell_type": "code",
   "execution_count": null,
   "metadata": {},
   "outputs": [
    {
     "ename": "KeyError",
     "evalue": "'end'",
     "output_type": "error",
     "traceback": [
      "\u001b[1;31m---------------------------------------------------------------------------\u001b[0m",
      "\u001b[1;31mKeyError\u001b[0m                                  Traceback (most recent call last)",
      "Cell \u001b[1;32mIn[8], line 15\u001b[0m\n\u001b[0;32m     12\u001b[0m             result\u001b[38;5;241m.\u001b[39mappend(i)\n\u001b[0;32m     14\u001b[0m     data[user] \u001b[38;5;241m=\u001b[39m geo_value\n\u001b[1;32m---> 15\u001b[0m \u001b[38;5;28;01mfor\u001b[39;00m i \u001b[38;5;129;01min\u001b[39;00m \u001b[43mdata\u001b[49m\u001b[43m[\u001b[49m\u001b[43muser\u001b[49m\u001b[43m]\u001b[49m:\n\u001b[0;32m     16\u001b[0m     \u001b[38;5;28mprint\u001b[39m(\u001b[38;5;124mf\u001b[39m\u001b[38;5;124m\"\u001b[39m\u001b[38;5;124mПользователь: \u001b[39m\u001b[38;5;132;01m{\u001b[39;00muser\u001b[38;5;132;01m}\u001b[39;00m\u001b[38;5;124m, его гео-метки: \u001b[39m\u001b[38;5;132;01m{\u001b[39;00mdata[user]\u001b[38;5;132;01m}\u001b[39;00m\u001b[38;5;124m\"\u001b[39m)\n\u001b[0;32m     17\u001b[0m \u001b[38;5;28mprint\u001b[39m(\u001b[38;5;124mf\u001b[39m\u001b[38;5;124m\"\u001b[39m\u001b[38;5;124mРезультат: \u001b[39m\u001b[38;5;132;01m{\u001b[39;00mresult\u001b[38;5;132;01m}\u001b[39;00m\u001b[38;5;124m\"\u001b[39m)\n",
      "\u001b[1;31mKeyError\u001b[0m: 'end'"
     ]
    }
   ],
   "source": [
    "data = dict()\n",
    "count = 0\n",
    "result = list()\n",
    "while True:\n",
    "    user = input('Введите пользователя: ')\n",
    "    count += 1\n",
    "    if user == \"end\":\n",
    "        break\n",
    "    geo_value = input('Введите гео-метки: ').split(\",\")\n",
    "    for i in geo_value:\n",
    "        if i not in result:\n",
    "            result.append(i)\n",
    "\n",
    "    data[user] = geo_value\n",
    "for user in data:\n",
    "    print(f\"Пользователь: {user}, его гео-метки: {data[user]}\")\n",
    "print(f\"Результат: {result}\")"
   ]
  }
 ],
 "metadata": {
  "kernelspec": {
   "display_name": "Python 3",
   "language": "python",
   "name": "python3"
  },
  "language_info": {
   "codemirror_mode": {
    "name": "ipython",
    "version": 3
   },
   "file_extension": ".py",
   "mimetype": "text/x-python",
   "name": "python",
   "nbconvert_exporter": "python",
   "pygments_lexer": "ipython3",
   "version": "3.9.4"
  }
 },
 "nbformat": 4,
 "nbformat_minor": 2
}
