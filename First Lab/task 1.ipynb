{
 "cells": [
  {
   "cell_type": "markdown",
   "metadata": {},
   "source": [
    "<h1>Задание 1</h1>\n",
    "Написать код на Python в среде Jupyter Notebook для решения следующей\n",
    "задачи.\n",
    "Дана переменная, в которой хранится слово из латинских букв. Напишите код,\n",
    "который выводит на экран:\n",
    "* среднюю букву, если число букв в слове нечётное;\n",
    "* две средних буквы, если число букв чётное."
   ]
  },
  {
   "cell_type": "markdown",
   "metadata": {},
   "source": [
    "<h2>Решение</h2>"
   ]
  },
  {
   "cell_type": "code",
   "execution_count": null,
   "metadata": {},
   "outputs": [
    {
     "name": "stdout",
     "output_type": "stream",
     "text": [
      "13\n",
      "6\n",
      "o\n"
     ]
    }
   ],
   "source": [
    "test_string = input() #Строка, которую вводит пользователь\n",
    "count_symbols = len(test_string) #Количество символов в строке\n",
    "#print(count_symbols)\n",
    "if count_symbols % 2 == 0:\n",
    "    #print(count_symbols/2)\n",
    "    answer = test_string[int(count_symbols/2)-1] + test_string[int(count_symbols/2)] #Получаем 2 цетральных символа\n",
    "    print(answer)\n",
    "else:\n",
    "    #print(count_symbols//2)\n",
    "    answer = test_string[int(count_symbols/2)] #Получаем центральный символ \n",
    "    print(answer)"
   ]
  },
  {
   "cell_type": "markdown",
   "metadata": {},
   "source": [
    "<h1>Задание 2</h1>\n",
    "Написать код на Python в среде Jupyter Notebook для решения следующей\n",
    "задачи.\n",
    "Вы делаете MVP (минимально жизнеспособный продукт) dating-сервиса.\n",
    "У вас есть список юношей и девушек.\n",
    "Выдвигаем гипотезу: лучшие рекомендации получатся, если просто\n",
    "отсортировать имена по алфавиту и познакомить людей с одинаковыми\n",
    "индексами после сортировки. Но вы не будете никого знакомить, если кто-то\n",
    "может остаться без пары."
   ]
  },
  {
   "cell_type": "markdown",
   "metadata": {},
   "source": [
    "<h2>Решение</h2>"
   ]
  },
  {
   "cell_type": "code",
   "execution_count": null,
   "metadata": {},
   "outputs": [
    {
     "name": "stdout",
     "output_type": "stream",
     "text": [
      "Идеальные пары\n",
      "Alex + Emma\n",
      "Arthur + Kate\n",
      "John + Kira\n",
      "Peter + Liza\n",
      "Richard + Trisha\n"
     ]
    }
   ],
   "source": [
    "boys = input().split(\",\") #Список мальчиков без пробелов через запятую\n",
    "girls = input().split(\",\") #Список девочек без пробелов через запятую\n",
    "#print(boys)\n",
    "#print(girls)\n",
    "#print(sorted(boys))\n",
    "#print(len(boys))\n",
    "#print(len(girls))\n",
    "if len(boys) != len(girls): #Сравниваем длину списка\n",
    "    print(\"Кто-то может остаться без пары\") #Вывод при неравном соотношении\n",
    "else:\n",
    "    sort_boys = sorted(boys) #Сортировка списка\n",
    "    sort_girls = sorted(girls) #Сортирвока списка\n",
    "    print(\"Идеальные пары\") #Заголовок для вывода\n",
    "    for i in range(len(boys)):\n",
    "        print(f\"{sort_boys[i]} и {sort_girls[i]}\") #Вывод идеальных пар"
   ]
  }
 ],
 "metadata": {
  "kernelspec": {
   "display_name": "Python 3",
   "language": "python",
   "name": "python3"
  },
  "language_info": {
   "codemirror_mode": {
    "name": "ipython",
    "version": 3
   },
   "file_extension": ".py",
   "mimetype": "text/x-python",
   "name": "python",
   "nbconvert_exporter": "python",
   "pygments_lexer": "ipython3",
   "version": "3.9.4"
  }
 },
 "nbformat": 4,
 "nbformat_minor": 2
}
