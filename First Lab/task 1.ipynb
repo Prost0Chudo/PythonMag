{
 "cells": [
  {
   "cell_type": "markdown",
   "metadata": {},
   "source": [
    "<h1>Задание 1</h1>\n",
    "Написать код на Python в среде Jupyter Notebook для решения следующей\n",
    "задачи.\n",
    "Дана переменная, в которой хранится слово из латинских букв. Напишите код,\n",
    "который выводит на экран:\n",
    "* среднюю букву, если число букв в слове нечётное;\n",
    "* две средних буквы, если число букв чётное."
   ]
  },
  {
   "cell_type": "markdown",
   "metadata": {},
   "source": [
    "<h2>Решение</h2>"
   ]
  },
  {
   "cell_type": "code",
   "execution_count": 16,
   "metadata": {},
   "outputs": [
    {
     "name": "stdout",
     "output_type": "stream",
     "text": [
      "13\n",
      "6\n",
      "o\n"
     ]
    }
   ],
   "source": [
    "test_string = input()\n",
    "count_symbols = len(test_string)\n",
    "print(count_symbols)\n",
    "if count_symbols % 2 == 0:\n",
    "    print(count_symbols/2)\n",
    "    answer = test_string[int(count_symbols/2)-1] + test_string[int(count_symbols/2)]\n",
    "    print(answer)\n",
    "else:\n",
    "    print(count_symbols//2)\n",
    "    answer = test_string[int(count_symbols/2)]\n",
    "    print(answer)"
   ]
  }
 ],
 "metadata": {
  "kernelspec": {
   "display_name": "Python 3",
   "language": "python",
   "name": "python3"
  },
  "language_info": {
   "codemirror_mode": {
    "name": "ipython",
    "version": 3
   },
   "file_extension": ".py",
   "mimetype": "text/x-python",
   "name": "python",
   "nbconvert_exporter": "python",
   "pygments_lexer": "ipython3",
   "version": "3.9.4"
  }
 },
 "nbformat": 4,
 "nbformat_minor": 2
}
