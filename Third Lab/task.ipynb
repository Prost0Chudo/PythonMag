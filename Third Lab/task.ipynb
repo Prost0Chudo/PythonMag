{
 "cells": [
  {
   "cell_type": "markdown",
   "metadata": {},
   "source": [
    "<h3>Напишите код на Python для решения следующей задачи.<br>\n",
    "Реализуйте функцию sum_distance(from, to), которая суммирует все числа от\n",
    "значения from до величины to включительно.<br>\n",
    "Примечание. Если пользователь задаст первое число, которое окажется\n",
    "больше второго, просто поменяйте их местами.</h3>"
   ]
  },
  {
   "cell_type": "markdown",
   "metadata": {},
   "source": [
    "<h4>Решение</h4>"
   ]
  },
  {
   "cell_type": "code",
   "execution_count": null,
   "metadata": {},
   "outputs": [
    {
     "name": "stdout",
     "output_type": "stream",
     "text": [
      "Введён диапазон, где первое и второ число равны\n",
      "Результат обработки: 8\n"
     ]
    }
   ],
   "source": [
    "# Функция sum_distance\n",
    "def sum_distance(first_number, second_number): # from не получается задать как переменную\n",
    "    sum = 0\n",
    "    if first_number < second_number:\n",
    "        for i in range(first_number,second_number + 1):\n",
    "            sum += i\n",
    "            #print(i)\n",
    "            #print(sum)\n",
    "    elif first_number > second_number:\n",
    "        for i in range(second_number,first_number + 1):\n",
    "            sum += i\n",
    "            #print(i)\n",
    "            #print(sum)\n",
    "    else:\n",
    "        print(\"Введён диапазон, где первое и второ число равны\") \n",
    "        # Я не знаю какое число указывать в случае, если from = to, поэтому я выведу одно число, считая это результатом обработки исключения\n",
    "        sum = first_number\n",
    "    print(f\"Результат обработки: {sum}\")\n",
    "# Программа с вызовом функции\n",
    "a = int(input('Введите первое число: '))\n",
    "b = int(input('Введите второе число: '))\n",
    "sum_distance(a,b)"
   ]
  },
  {
   "cell_type": "markdown",
   "metadata": {},
   "source": [
    "<h3>Напишите код на Python для решения следующей задачи.<br>\n",
    "Реализуйте функцию trim_and_repeat(), которая принимает три параметра:\n",
    "<br>● строку;\n",
    "<br>● offset — число символов, на которое нужно обрезать строку слева;\n",
    "<br>● repetitions — сколько раз нужно повторить строку перед возвратом\n",
    "получившейся строки.\n",
    "<br>Число символов для среза по умолчанию равно 0, а количество повторений —\n",
    "1.\n",
    "<br>Функция должна возвращать полученную строку.</h3>"
   ]
  },
  {
   "cell_type": "markdown",
   "metadata": {},
   "source": [
    "<h4>Решение</h4>"
   ]
  },
  {
   "cell_type": "code",
   "execution_count": null,
   "metadata": {},
   "outputs": [
    {
     "name": "stdout",
     "output_type": "stream",
     "text": [
      "Полученная строка: qwerty\n"
     ]
    }
   ],
   "source": [
    "# Функция trim_and_repeat\n",
    "def trim_and_repeat(string, offset=0, repetitions=1):\n",
    "    new_string = \"\"\n",
    "    for i in range(repetitions):\n",
    "        new_string += string[offset:]\n",
    "    print(f\"Полученная строка: {new_string}\")\n",
    "stroka = input('Введите строку: ')\n",
    "count_symbols = input('Введите число символов (Для пропуска - нажмите Enter): ')\n",
    "repeat_time = input('Введите количество повторений (Для пропуска - нажмите Enter): ')\n",
    "use_def = False\n",
    "try: # Обработка нажатий Enter\n",
    "    count_symbols = int(count_symbols)\n",
    "    repeat_time = int(repeat_time)\n",
    "except:\n",
    "    use_def = True\n",
    "if use_def == True:\n",
    "    trim_and_repeat(stroka) #Вызов с использованием значений по умолчанию\n",
    "else:\n",
    "    trim_and_repeat(stroka, count_symbols, repeat_time)"
   ]
  }
 ],
 "metadata": {
  "kernelspec": {
   "display_name": "Python 3",
   "language": "python",
   "name": "python3"
  },
  "language_info": {
   "codemirror_mode": {
    "name": "ipython",
    "version": 3
   },
   "file_extension": ".py",
   "mimetype": "text/x-python",
   "name": "python",
   "nbconvert_exporter": "python",
   "pygments_lexer": "ipython3",
   "version": "3.9.4"
  }
 },
 "nbformat": 4,
 "nbformat_minor": 2
}
