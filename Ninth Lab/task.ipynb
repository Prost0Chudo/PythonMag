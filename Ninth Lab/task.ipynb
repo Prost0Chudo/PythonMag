{
 "cells": [
  {
   "cell_type": "markdown",
   "metadata": {},
   "source": [
    "<h1>Этапы выполнения задания</h1>"
   ]
  },
  {
   "cell_type": "markdown",
   "metadata": {},
   "source": [
    "<h2>Этап 1. Изучение Scapy</h2>\n",
    "<h4>● Изучите основы работы с Scapy по документации.<br>\n",
    "● Настройте Scapy для перехвата HTTP-трафика, используйте скрипт\n",
    "scapy для отправки HTTP-запросов.</h4>"
   ]
  },
  {
   "cell_type": "code",
   "execution_count": 3,
   "metadata": {},
   "outputs": [
    {
     "name": "stdout",
     "output_type": "stream",
     "text": [
      "Интерфейс: \\Device\\NPF_{7C06ABEB-51B8-49FF-B099-62B898C1025F}, IP-адрес: 169.254.52.134\n",
      "Интерфейс: \\Device\\NPF_{66AF5B8F-4A82-45BF-A02D-FFAFFE722384}, IP-адрес: 169.254.113.25\n",
      "Интерфейс: \\Device\\NPF_{4B1CC307-2A75-4004-94AC-B798C12EC59F}, IP-адрес: 169.254.160.184\n",
      "Интерфейс: \\Device\\NPF_{B4288366-C9E8-4F39-BDDC-435729C430A6}, IP-адрес: 192.168.1.2\n",
      "Интерфейс: \\Device\\NPF_Loopback, IP-адрес: 127.0.0.1\n",
      "Интерфейс: \\Device\\NPF_{8DA088F2-0F1F-4594-ABF1-6DC9066D0CEB}, IP-адрес: 169.254.76.31\n",
      "Интерфейс: \\Device\\NPF_{1FD0EE18-14B2-4C45-B352-55000AA63583}, IP-адрес: 10.0.85.2\n",
      "Интерфейс: \\Device\\NPF_{E355F204-BB22-4521-AB4B-B96D1D5108B1}, IP-адрес: 169.254.205.245\n"
     ]
    }
   ],
   "source": [
    "#Для поиска своего net-интерфейса\n",
    "from scapy.all import get_if_list, get_if_addr\n",
    "\n",
    "interfaces = get_if_list()\n",
    "\n",
    "# Ищем интерфейс с IP-адресом\n",
    "for iface in interfaces:\n",
    "    ip = get_if_addr(iface)\n",
    "    if ip != \"0.0.0.0\": \n",
    "        print(f\"Интерфейс: {iface}, IP-адрес: {ip}\")"
   ]
  },
  {
   "cell_type": "code",
   "execution_count": 1,
   "metadata": {},
   "outputs": [
    {
     "name": "stdout",
     "output_type": "stream",
     "text": [
      "Запрашиваемый url: crt.usertrust.com/USERTrustRSAAddTrustCA.crt\n",
      "<Response [200]>\n",
      "<Response [200]>\n",
      "<Response [200]>\n",
      "<Response [200]>\n",
      "<Response [200]>\n",
      "<Response [200]>\n",
      "<Response [200]>\n",
      "<Response [200]>\n",
      "<Response [200]>\n",
      "<Response [200]>\n",
      "<Response [200]>\n",
      "<Response [200]>\n",
      "<Response [200]>\n",
      "<Response [200]>\n",
      "<Response [200]>\n",
      "<Response [200]>\n",
      "<Response [200]>\n",
      "<Response [200]>\n",
      "<Response [200]>\n",
      "<Response [200]>\n"
     ]
    }
   ],
   "source": [
    "import requests\n",
    "from scapy.all import sniff\n",
    "from scapy.layers.http import HTTPRequest\n",
    "\n",
    "def process_packet(packet):\n",
    "    if packet.haslayer(HTTPRequest):\n",
    "        url = packet[HTTPRequest].Host.decode() + packet[HTTPRequest].Path.decode()\n",
    "        print(\"Запрашиваемый url: \" + url)\n",
    "\n",
    "sniff(iface=\"\\\\Device\\\\NPF_{B4288366-C9E8-4F39-BDDC-435729C430A6}\", count=10, prn=process_packet, filter=\"tcp port 80\")\n",
    "for i in range(20):\n",
    "    responce = requests.get(\"http://yandex.ru\")\n",
    "    print(responce)"
   ]
  },
  {
   "cell_type": "markdown",
   "metadata": {},
   "source": [
    "<h2>Этап 2. Анализ трафика</h2>\n",
    "<h4>● Ознакомьтесь с инструментом Google Gruyere и запустите его.<br>\n",
    "● Запустите Scapy и начните собирать трафик, взаимодействуя с сайтом\n",
    "Google Gruyere.<br>\n",
    "● Проанализируйте полученные данные, обращая внимание на запросы и\n",
    "ответы HTTP.</h4>"
   ]
  },
  {
   "cell_type": "markdown",
   "metadata": {},
   "source": [
    "<h2>Этап 3. Эксплуатация XSS</h2>\n",
    "<h4>● Осуществите рекон-анализ сайта Google Gruyere для поиска\n",
    "потенциальных точек входа XSS.<br>\n",
    "● Попытайтесь эксплуатировать уязвимости XSS, используя\n",
    "обнаруженные точки.<br>\n",
    "Примеры XSS-атак:<br>\n",
    "<!--<script>alert('XSS')</script>---><br>\n",
    "<!--<img src=\"nonexistent.jpg\" onerror=\"alert('XSS')\">--><br>\n",
    "● Запишите все свои шаги эксплуатации уязвимостей и полученные\n",
    "результаты, сделайте скриншоты.</h4>"
   ]
  },
  {
   "cell_type": "markdown",
   "metadata": {},
   "source": [
    "<h2>Этап 4. Анализ результатов</h2>\n",
    "<h4>● Используя Scapy, проанализируйте, как XSS-атака отображается в\n",
    "сетевом трафике (проанализируйте ответ на HTTP-запрос).<br>\n",
    "● Опишите, какие изменения в трафике произошли во время XSS-атаки.</h4>"
   ]
  },
  {
   "cell_type": "markdown",
   "metadata": {},
   "source": [
    "<h2>Этап 5. Отчёт</h2>\n",
    "<h4>Подготовьте отчёт: опишите процесс эксплуатации XSS, анализ трафика,<br>\n",
    "выводы и рекомендации по устранению найденных уязвимостей.</h4>"
   ]
  }
 ],
 "metadata": {
  "kernelspec": {
   "display_name": "Python 3",
   "language": "python",
   "name": "python3"
  },
  "language_info": {
   "codemirror_mode": {
    "name": "ipython",
    "version": 3
   },
   "file_extension": ".py",
   "mimetype": "text/x-python",
   "name": "python",
   "nbconvert_exporter": "python",
   "pygments_lexer": "ipython3",
   "version": "3.9.4"
  }
 },
 "nbformat": 4,
 "nbformat_minor": 2
}
